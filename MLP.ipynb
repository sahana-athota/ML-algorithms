{
  "nbformat": 4,
  "nbformat_minor": 0,
  "metadata": {
    "colab": {
      "provenance": []
    },
    "kernelspec": {
      "name": "python3",
      "display_name": "Python 3"
    },
    "language_info": {
      "name": "python"
    }
  },
  "cells": [
    {
      "cell_type": "code",
      "execution_count": null,
      "metadata": {
        "id": "RaT8jIO0HmJG"
      },
      "outputs": [],
      "source": [
        "import numpy as np\n",
        "import pandas as pd\n",
        "import matplotlib.pyplot as plt\n",
        "import seaborn as sns"
      ]
    },
    {
      "cell_type": "code",
      "source": [
        "# Dummy data (100 samples, 10 features)\n",
        "X = np.random.rand(100, 10)\n",
        "y = np.random.randint(0, 2, size=(100, 1))"
      ],
      "metadata": {
        "id": "y6GPtbJtqFEN"
      },
      "execution_count": null,
      "outputs": []
    },
    {
      "cell_type": "markdown",
      "source": [
        "### WEIGHTS INITIALIZATION FUNCTIONS"
      ],
      "metadata": {
        "id": "smMW5cSAKG-S"
      }
    },
    {
      "cell_type": "code",
      "source": [
        "# defining glorot uniform/normal\n",
        "# for tanh, sigmoid\n",
        "def glorot_uniform(fan_in,fan_out):\n",
        "  limit= np.sqrt(6/(fan_in+fan_out))\n",
        "  return np.random.uniform(-limit,limit,size=(fan_in,fan_out))\n",
        "\n",
        "def glorot_normal(fan_in,fan_out):\n",
        "  std = np.sqrt(2 / (fan_in + fan_out))\n",
        "  # loc means mean and scale means standard deviation\n",
        "  return np.random.normal(loc=0.0, scale=std, size=(fan_in, fan_out))\n",
        "\n",
        "\n",
        "# defining he uniform\n",
        "# for ReLU\n",
        "def he_uniform(fan_in,fan_out):\n",
        "  limit= np.sqrt(6/(fan_in))\n",
        "  return np.random.uniform(-limit,limit,(fan_in,fan_out))\n",
        "\n",
        "def he_normal(fan_in, fan_out):\n",
        "  std = np.sqrt(2 / fan_in)\n",
        "  return np.random.normal(loc=0.0, scale=std, size=(fan_in, fan_out))\n"
      ],
      "metadata": {
        "id": "fhAT3qccKKNT"
      },
      "execution_count": null,
      "outputs": []
    },
    {
      "cell_type": "markdown",
      "source": [
        "### ACTIVATION FUNCTIONS"
      ],
      "metadata": {
        "id": "DAcEWvxkLmvV"
      }
    },
    {
      "cell_type": "code",
      "source": [
        "# defining ReLU\n",
        "def relu(x):\n",
        "  return np.maximum(0, x)\n",
        "\n",
        "def relu_derivative(x):\n",
        "    return (x > 0).astype(float)\n",
        "\n",
        "# defining tanh\n",
        "def tanh(x):\n",
        "  return np.tanh(x)\n",
        "\n",
        "def tanh_derivative(x):\n",
        "  return 1 - np.tanh(x) ** 2\n",
        "\n",
        "# defining sigmoid\n",
        "def sigmoid(x):\n",
        "  return 1/(1+np.exp(-x))\n",
        "\n",
        "def sigmoid_derivative(x):\n",
        "    s=sigmoid(x)\n",
        "    return s*(1-s)"
      ],
      "metadata": {
        "id": "mrLAZPJtKOaf"
      },
      "execution_count": null,
      "outputs": []
    },
    {
      "cell_type": "markdown",
      "source": [
        "### LOSS FUNCTIONS"
      ],
      "metadata": {
        "id": "ypU0VMNuJhsc"
      }
    },
    {
      "cell_type": "code",
      "source": [
        "# defining binary cross entropy\n",
        "esp=1e-7\n",
        "def binary_cross_entropy(y_true,y_pred_prob):\n",
        "  y_pred_prob=np.clip(y_pred_prob,esp,1-esp)\n",
        "  return -(y_true*np.log(y_pred_prob)+(1-y_true)*np.log(1-y_pred_prob))\n",
        "\n",
        "def binary_cross_entropy_derivative(y_true, y_pred_prob):\n",
        "  y_pred_prob=np.clip(y_pred_prob,esp,1-esp)\n",
        "  return -(y_true/y_pred_prob)+((1-y_true)/(1-y_pred_prob))\n",
        "\n",
        "\n",
        "# defining mse\n",
        "def mse(y_true,y_pred):\n",
        "  return (y_true - y_pred)**2\n",
        "\n",
        "def mse_derivative(y_true,y_pred):\n",
        "  return 2*(y_true - y_pred)\n",
        "\n",
        "\n",
        "# defining mae\n",
        "def mae(y_true,y_pred):\n",
        "  return np.abs(y_true - y_pred)"
      ],
      "metadata": {
        "id": "wbgaNYqDLq-C"
      },
      "execution_count": null,
      "outputs": []
    },
    {
      "cell_type": "markdown",
      "source": [
        "### ACCURACY FUNCTION"
      ],
      "metadata": {
        "id": "jS2pO8NP7Iy6"
      }
    },
    {
      "cell_type": "code",
      "source": [
        "threshold=0.5\n",
        "def accuracy(y_true,y_pred_prob):\n",
        "  y_pred=(y_pred_prob>threshold).astype(int)\n",
        "  return np.mean(y_true==y_pred)"
      ],
      "metadata": {
        "id": "ENAznsrh54P8"
      },
      "execution_count": null,
      "outputs": []
    },
    {
      "cell_type": "markdown",
      "source": [
        "clipping is better because adding epsilion in the log or denominator changes the true probability, whereas clipping clips the values only when needed"
      ],
      "metadata": {
        "id": "ndJVWffY--4P"
      }
    },
    {
      "cell_type": "code",
      "source": [
        "#initialising weights\n",
        "\n",
        "#number of neurons in each layer\n",
        "neurons=[X.shape[1],10,5,1]\n",
        "w = []\n",
        "b = []\n",
        "a = []\n",
        "z = []\n",
        "\n",
        "def initializing(layers):\n",
        "  global a,z,b,w\n",
        "  z=[None for _ in range(layers)]\n",
        "  a=[None for _ in range(layers)]\n",
        "  b=[None for _ in range(layers)]\n",
        "  w=[None for _ in range(layers)]\n",
        "\n",
        "  for i in range(layers):\n",
        "    w[i]=(glorot_uniform(neurons[i],neurons[i+1]))\n",
        "    b[i]=(glorot_uniform(1,neurons[i+1]))"
      ],
      "metadata": {
        "id": "5sSkOMz6hPz6"
      },
      "execution_count": null,
      "outputs": []
    },
    {
      "cell_type": "markdown",
      "source": [
        "### FORWARD PROPAGATION"
      ],
      "metadata": {
        "id": "Rr0S6w6-HsoX"
      }
    },
    {
      "cell_type": "markdown",
      "source": [
        "using `glorot_uniform` we get the weight matrices according to `fan_in` and `fan_out`"
      ],
      "metadata": {
        "id": "buO6BHPN3Uro"
      }
    },
    {
      "cell_type": "markdown",
      "source": [
        "flow of data:\n",
        "\n",
        "X -> (w1) -> Z1 -> A1 -> (w2) -> Z2 -> A2"
      ],
      "metadata": {
        "id": "4p1T4kHz_mju"
      }
    },
    {
      "cell_type": "code",
      "source": [
        "\n",
        "'''\n",
        "FOR SINGLE LAYER(PRACTICE)\n",
        "\n",
        "w1=glorot_uniform(10,5)\n",
        "b1=glorot_uniform(1,5)\n",
        "w2=glorot_uniform(5,1)\n",
        "b2=glorot_uniform(1,1)\n",
        "A1=0\n",
        "Z1=0\n",
        "A2=0\n",
        "Z2=0'''\n",
        "\n",
        "learning_rate=0.01\n",
        "\n",
        "def forward(X,layers):\n",
        "  '''\n",
        "  FOR SINGLE LAYER(PRACTICE)\n",
        "\n",
        "  global A1,Z1,A2,Z2\n",
        "  Z1 = np.dot(X,w1)+b1\n",
        "  A1 = relu(Z1)\n",
        "  Z2 = np.dot(A1,w2)+b2\n",
        "  A2 = sigmoid(Z2)\n",
        "  return A2'''\n",
        "\n",
        "  #10,5,5,1 -3 layers\n",
        "  z[0]=np.dot(X,w[0])+b[0] #input layer\n",
        "  a[0]=relu(z[0])\n",
        "\n",
        "  for i in range(1,layers-1): #hidden layers\n",
        "    z[i]=np.dot(a[i-1],w[i])+b[i]\n",
        "    a[i]=relu(z[i])\n",
        "\n",
        "  z[layers-1]=np.dot(a[layers-2],w[layers-1])+b[layers-1] #output layer\n",
        "  a[layers-1]=sigmoid(z[layers-1])\n",
        "  return a[layers-1]"
      ],
      "metadata": {
        "id": "7e85l34zOJ-D"
      },
      "execution_count": null,
      "outputs": []
    },
    {
      "cell_type": "markdown",
      "source": [
        "### BACKPRPAGATION"
      ],
      "metadata": {
        "id": "OcvDjRyJHplM"
      }
    },
    {
      "cell_type": "markdown",
      "source": [
        "- the derivative wrt to any tensor at any point is equal to the the dimension of that tensor\n",
        "- parameter gradients are averaged to avoid large gradients"
      ],
      "metadata": {
        "id": "bk9CkxFKHdTr"
      }
    },
    {
      "cell_type": "code",
      "source": [
        "def backward(X_train,y_train,y_pred_prob,layers):\n",
        "  m=X_train.shape[0]\n",
        "  '''\n",
        "  FOR SINGLE LAYER(PRACTICE)\n",
        "\n",
        "  global w1,w2,b1,b2\n",
        "  dA2=binary_cross_entropy_derivative(y_train,y_pred_prob)\n",
        "  dZ2=dA2*sigmoid_derivative(Z2)\n",
        "\n",
        "  dw2 = np.dot(A1.T,dZ2)/m\n",
        "  db2 = np.sum(dZ2, axis=0)/m\n",
        "\n",
        "  dA1 = np.dot(dZ2, w2.T)\n",
        "  dZ1 = dA1*relu_derivative(Z1)\n",
        "\n",
        "  dw1 = np.dot(X_train.T, dZ1)/m\n",
        "  db1 = np.sum(dZ1, axis=0)/m\n",
        "\n",
        "  w1=w1-learning_rate*dw1\n",
        "  w2=w2-learning_rate*dw2\n",
        "  b1=b1-learning_rate*db1\n",
        "  b2=b2-learning_rate*db2\n",
        "  '''\n",
        "\n",
        "  dz=[None for _ in range(layers)]\n",
        "  da=[None for _ in range(layers)]\n",
        "  db=[None for _ in range(layers)]\n",
        "  dw=[None for _ in range(layers)]\n",
        "\n",
        "  #output layer\n",
        "  da[layers-1]=binary_cross_entropy_derivative(y_train,y_pred_prob) #filling them backwards -> da[0] is derivative wrt a[layers]\n",
        "  dz[layers-1]=da[layers-1]*sigmoid_derivative(z[layers-1])\n",
        "  dw[layers-1]=np.dot(a[layers-2].T,dz[layers-1])/m\n",
        "  db[layers-1]=np.sum(dz[layers-1], axis=0)/m\n",
        "\n",
        "  w[layers-1]-=learning_rate*dw[layers-1]\n",
        "  b[layers-1]-=learning_rate*db[layers-1]\n",
        "\n",
        "  #hidden layers\n",
        "  for i in range(1,layers-1):\n",
        "    da[layers-i-1]=np.dot(dz[layers-i], w[layers-i].T)\n",
        "    dz[layers-i-1]=da[layers-i-1]*relu_derivative(z[layers-i-1])\n",
        "    dw[layers-i-1]=np.dot(a[layers-i-2].T, dz[layers-i-1])/m\n",
        "    db[layers-i-1]=np.sum(dz[layers-i-1], axis=0)/m\n",
        "\n",
        "    w[layers-i-1]-=learning_rate*dw[layers-i-1]\n",
        "    b[layers-i-1]-=learning_rate*db[layers-i-1]\n",
        "\n",
        "  #input layer\n",
        "  da[0]=np.dot(dz[1], w[1].T)\n",
        "  dz[0]=da[0]*relu_derivative(z[0])\n",
        "  dw[0]=np.dot(X_train.T, dz[0])/m\n",
        "  db[0]=np.sum(dz[0], axis=0)/m\n",
        "\n",
        "  w[0]-=learning_rate*dw[0]\n",
        "  b[0]-=learning_rate*db[0]"
      ],
      "metadata": {
        "id": "5v_u4VIhRNSj"
      },
      "execution_count": null,
      "outputs": []
    },
    {
      "cell_type": "markdown",
      "source": [
        "### MLP MODEL"
      ],
      "metadata": {
        "id": "D7uKttpH7ECh"
      }
    },
    {
      "cell_type": "code",
      "source": [
        "losses=[]\n",
        "accuracies=[]\n",
        "\n",
        "def mlp(X,y,batch_size,epochs,layers,validation_split):\n",
        "  # validation_split: the fraction of X to be used as testing data\n",
        "\n",
        "  X = pd.DataFrame(X)\n",
        "  y = pd.DataFrame(y,index=X.index)\n",
        "\n",
        "  X_test=X.sample(frac=validation_split)\n",
        "  y_test=y.loc[X_test.index]\n",
        "  X_train=X.drop(X_test.index)\n",
        "  y_train=y.drop(X_test.index)\n",
        "\n",
        "\n",
        "  # converting it to array\n",
        "  X=np.array(X)\n",
        "  X_train=np.array(X_train)\n",
        "  y_train=np.array(y_train)\n",
        "  X_test=np.array(X_test)\n",
        "  y_test=np.array(y_test)\n",
        "\n",
        "\n",
        "  # get the number of samples\n",
        "  samples=X_train.shape[0]\n",
        "\n",
        "  # number of batches per epoch\n",
        "  batches_per_epoch=np.ceil(samples/batch_size).astype(int)\n",
        "\n",
        "  initializing(layers)\n",
        "\n",
        "  for i in range(epochs):\n",
        "    loss_per_batches=[]\n",
        "    accuracy_per_batches=[]\n",
        "    global losses,accuracies\n",
        "    for j in range(batches_per_epoch):\n",
        "      start=j*batch_size\n",
        "      end=min((j+1)*batch_size,len(X_train))\n",
        "\n",
        "      X_batch=X_train[start:end]\n",
        "      y_batch=y_train[start:end]\n",
        "\n",
        "      y_pred_prob=forward(X_batch,layers)\n",
        "\n",
        "      loss_per_batches.append(np.mean(binary_cross_entropy(y_batch,y_pred_prob)))\n",
        "      accuracy_per_batches.append(accuracy(y_batch,y_pred_prob))\n",
        "\n",
        "      backward(X_batch,y_batch,y_pred_prob,layers)\n",
        "\n",
        "    loss_epoch=np.mean(loss_per_batches)\n",
        "    accuracy_epoch=np.mean(accuracy_per_batches)\n",
        "    losses.append(loss_epoch)\n",
        "    accuracies.append(accuracy_epoch)\n",
        "    print(\"Epoch:\",i+1,\" loss:\",np.round(loss_epoch,4),\" accuracy:\",np.round(accuracy_epoch,4))"
      ],
      "metadata": {
        "id": "B7rH8gcJR8fK"
      },
      "execution_count": null,
      "outputs": []
    },
    {
      "cell_type": "code",
      "source": [
        "mlp(X,y,32,100,3,0.2)"
      ],
      "metadata": {
        "colab": {
          "base_uri": "https://localhost:8080/"
        },
        "id": "AKtYyi2gSI0V",
        "outputId": "081c5c2d-7f44-4cd2-e5c4-582bc6cabeff"
      },
      "execution_count": null,
      "outputs": [
        {
          "output_type": "stream",
          "name": "stdout",
          "text": [
            "Epoch: 1  loss: 0.7505  accuracy: 0.5\n",
            "Epoch: 2  loss: 0.7478  accuracy: 0.5\n",
            "Epoch: 3  loss: 0.7453  accuracy: 0.5\n",
            "Epoch: 4  loss: 0.7428  accuracy: 0.5\n",
            "Epoch: 5  loss: 0.7405  accuracy: 0.5\n",
            "Epoch: 6  loss: 0.7383  accuracy: 0.5\n",
            "Epoch: 7  loss: 0.7362  accuracy: 0.5\n",
            "Epoch: 8  loss: 0.7343  accuracy: 0.5\n",
            "Epoch: 9  loss: 0.7324  accuracy: 0.5\n",
            "Epoch: 10  loss: 0.7307  accuracy: 0.5\n",
            "Epoch: 11  loss: 0.7291  accuracy: 0.5\n",
            "Epoch: 12  loss: 0.7275  accuracy: 0.5\n",
            "Epoch: 13  loss: 0.726  accuracy: 0.5\n",
            "Epoch: 14  loss: 0.7246  accuracy: 0.5\n",
            "Epoch: 15  loss: 0.7232  accuracy: 0.5\n",
            "Epoch: 16  loss: 0.7219  accuracy: 0.5\n",
            "Epoch: 17  loss: 0.7207  accuracy: 0.5\n",
            "Epoch: 18  loss: 0.7196  accuracy: 0.5\n",
            "Epoch: 19  loss: 0.7185  accuracy: 0.5\n",
            "Epoch: 20  loss: 0.7174  accuracy: 0.5\n",
            "Epoch: 21  loss: 0.7164  accuracy: 0.5\n",
            "Epoch: 22  loss: 0.7154  accuracy: 0.5\n",
            "Epoch: 23  loss: 0.7145  accuracy: 0.5\n",
            "Epoch: 24  loss: 0.7136  accuracy: 0.5\n",
            "Epoch: 25  loss: 0.7127  accuracy: 0.5\n",
            "Epoch: 26  loss: 0.7119  accuracy: 0.5\n",
            "Epoch: 27  loss: 0.7112  accuracy: 0.5\n",
            "Epoch: 28  loss: 0.7105  accuracy: 0.5\n",
            "Epoch: 29  loss: 0.7098  accuracy: 0.5\n",
            "Epoch: 30  loss: 0.7091  accuracy: 0.5\n",
            "Epoch: 31  loss: 0.7085  accuracy: 0.5\n",
            "Epoch: 32  loss: 0.7079  accuracy: 0.5\n",
            "Epoch: 33  loss: 0.7073  accuracy: 0.5\n",
            "Epoch: 34  loss: 0.7068  accuracy: 0.5\n",
            "Epoch: 35  loss: 0.7062  accuracy: 0.5\n",
            "Epoch: 36  loss: 0.7058  accuracy: 0.5\n",
            "Epoch: 37  loss: 0.7053  accuracy: 0.5\n",
            "Epoch: 38  loss: 0.7048  accuracy: 0.5\n",
            "Epoch: 39  loss: 0.7044  accuracy: 0.5\n",
            "Epoch: 40  loss: 0.704  accuracy: 0.5\n",
            "Epoch: 41  loss: 0.7037  accuracy: 0.5\n",
            "Epoch: 42  loss: 0.7033  accuracy: 0.5\n",
            "Epoch: 43  loss: 0.703  accuracy: 0.5\n",
            "Epoch: 44  loss: 0.7026  accuracy: 0.5\n",
            "Epoch: 45  loss: 0.7023  accuracy: 0.5\n",
            "Epoch: 46  loss: 0.7019  accuracy: 0.5\n",
            "Epoch: 47  loss: 0.7016  accuracy: 0.5\n",
            "Epoch: 48  loss: 0.7012  accuracy: 0.5104\n",
            "Epoch: 49  loss: 0.7009  accuracy: 0.5104\n",
            "Epoch: 50  loss: 0.7006  accuracy: 0.5104\n",
            "Epoch: 51  loss: 0.7003  accuracy: 0.5104\n",
            "Epoch: 52  loss: 0.7  accuracy: 0.5\n",
            "Epoch: 53  loss: 0.6997  accuracy: 0.5\n",
            "Epoch: 54  loss: 0.6994  accuracy: 0.5\n",
            "Epoch: 55  loss: 0.699  accuracy: 0.4896\n",
            "Epoch: 56  loss: 0.6987  accuracy: 0.4792\n",
            "Epoch: 57  loss: 0.6984  accuracy: 0.4792\n",
            "Epoch: 58  loss: 0.6981  accuracy: 0.4688\n",
            "Epoch: 59  loss: 0.6978  accuracy: 0.4583\n",
            "Epoch: 60  loss: 0.6975  accuracy: 0.4583\n",
            "Epoch: 61  loss: 0.6973  accuracy: 0.4583\n",
            "Epoch: 62  loss: 0.6971  accuracy: 0.4688\n",
            "Epoch: 63  loss: 0.6969  accuracy: 0.4896\n",
            "Epoch: 64  loss: 0.6967  accuracy: 0.4896\n",
            "Epoch: 65  loss: 0.6966  accuracy: 0.4896\n",
            "Epoch: 66  loss: 0.6964  accuracy: 0.4896\n",
            "Epoch: 67  loss: 0.6963  accuracy: 0.5\n",
            "Epoch: 68  loss: 0.6961  accuracy: 0.5\n",
            "Epoch: 69  loss: 0.696  accuracy: 0.5\n",
            "Epoch: 70  loss: 0.6959  accuracy: 0.5208\n",
            "Epoch: 71  loss: 0.6957  accuracy: 0.5104\n",
            "Epoch: 72  loss: 0.6956  accuracy: 0.5104\n",
            "Epoch: 73  loss: 0.6955  accuracy: 0.5\n",
            "Epoch: 74  loss: 0.6953  accuracy: 0.4896\n",
            "Epoch: 75  loss: 0.6952  accuracy: 0.4896\n",
            "Epoch: 76  loss: 0.6951  accuracy: 0.4688\n",
            "Epoch: 77  loss: 0.695  accuracy: 0.4688\n",
            "Epoch: 78  loss: 0.6949  accuracy: 0.4688\n",
            "Epoch: 79  loss: 0.6948  accuracy: 0.4792\n",
            "Epoch: 80  loss: 0.6947  accuracy: 0.4896\n",
            "Epoch: 81  loss: 0.6946  accuracy: 0.5\n",
            "Epoch: 82  loss: 0.6946  accuracy: 0.5\n",
            "Epoch: 83  loss: 0.6945  accuracy: 0.5\n",
            "Epoch: 84  loss: 0.6944  accuracy: 0.5104\n",
            "Epoch: 85  loss: 0.6943  accuracy: 0.5\n",
            "Epoch: 86  loss: 0.6942  accuracy: 0.5104\n",
            "Epoch: 87  loss: 0.6942  accuracy: 0.5208\n",
            "Epoch: 88  loss: 0.6941  accuracy: 0.5208\n",
            "Epoch: 89  loss: 0.694  accuracy: 0.5312\n",
            "Epoch: 90  loss: 0.6939  accuracy: 0.5312\n",
            "Epoch: 91  loss: 0.6939  accuracy: 0.5521\n",
            "Epoch: 92  loss: 0.6938  accuracy: 0.5521\n",
            "Epoch: 93  loss: 0.6937  accuracy: 0.5521\n",
            "Epoch: 94  loss: 0.6937  accuracy: 0.5729\n",
            "Epoch: 95  loss: 0.6936  accuracy: 0.5833\n",
            "Epoch: 96  loss: 0.6935  accuracy: 0.5833\n",
            "Epoch: 97  loss: 0.6935  accuracy: 0.5833\n",
            "Epoch: 98  loss: 0.6934  accuracy: 0.5833\n",
            "Epoch: 99  loss: 0.6934  accuracy: 0.5833\n",
            "Epoch: 100  loss: 0.6933  accuracy: 0.5729\n"
          ]
        }
      ]
    },
    {
      "cell_type": "markdown",
      "source": [
        "### DEMO MLP TO ANALYZE\n"
      ],
      "metadata": {
        "id": "aUaYjRE7S0Zz"
      }
    },
    {
      "cell_type": "code",
      "source": [
        "import tensorflow as tf\n",
        "from tensorflow.keras.models import Sequential\n",
        "from tensorflow.keras.layers import Dense\n",
        "\n",
        "# MLP model\n",
        "model = Sequential([\n",
        "    Dense(10, activation='relu', input_shape=(10,)),\n",
        "    Dense(5, activation='relu'),\n",
        "    Dense(1, activation='sigmoid')\n",
        "])\n",
        "\n",
        "model.compile(optimizer='adam', loss='binary_crossentropy', metrics=['accuracy'])\n",
        "\n",
        "history=model.fit(X, y, epochs=100)\n"
      ],
      "metadata": {
        "id": "TjdtAPxMPwi5",
        "colab": {
          "base_uri": "https://localhost:8080/"
        },
        "outputId": "611da4eb-c3b3-4956-c816-e0748ccfe50b"
      },
      "execution_count": null,
      "outputs": [
        {
          "output_type": "stream",
          "name": "stdout",
          "text": [
            "Epoch 1/100\n"
          ]
        },
        {
          "output_type": "stream",
          "name": "stderr",
          "text": [
            "/usr/local/lib/python3.11/dist-packages/keras/src/layers/core/dense.py:87: UserWarning: Do not pass an `input_shape`/`input_dim` argument to a layer. When using Sequential models, prefer using an `Input(shape)` object as the first layer in the model instead.\n",
            "  super().__init__(activity_regularizer=activity_regularizer, **kwargs)\n"
          ]
        },
        {
          "output_type": "stream",
          "name": "stdout",
          "text": [
            "\u001b[1m4/4\u001b[0m \u001b[32m━━━━━━━━━━━━━━━━━━━━\u001b[0m\u001b[37m\u001b[0m \u001b[1m2s\u001b[0m 14ms/step - accuracy: 0.4835 - loss: 0.8997\n",
            "Epoch 2/100\n",
            "\u001b[1m4/4\u001b[0m \u001b[32m━━━━━━━━━━━━━━━━━━━━\u001b[0m\u001b[37m\u001b[0m \u001b[1m0s\u001b[0m 14ms/step - accuracy: 0.4804 - loss: 0.8520\n",
            "Epoch 3/100\n",
            "\u001b[1m4/4\u001b[0m \u001b[32m━━━━━━━━━━━━━━━━━━━━\u001b[0m\u001b[37m\u001b[0m \u001b[1m0s\u001b[0m 16ms/step - accuracy: 0.4700 - loss: 0.8313\n",
            "Epoch 4/100\n",
            "\u001b[1m4/4\u001b[0m \u001b[32m━━━━━━━━━━━━━━━━━━━━\u001b[0m\u001b[37m\u001b[0m \u001b[1m0s\u001b[0m 15ms/step - accuracy: 0.4908 - loss: 0.8042\n",
            "Epoch 5/100\n",
            "\u001b[1m4/4\u001b[0m \u001b[32m━━━━━━━━━━━━━━━━━━━━\u001b[0m\u001b[37m\u001b[0m \u001b[1m0s\u001b[0m 14ms/step - accuracy: 0.4950 - loss: 0.7731\n",
            "Epoch 6/100\n",
            "\u001b[1m4/4\u001b[0m \u001b[32m━━━━━━━━━━━━━━━━━━━━\u001b[0m\u001b[37m\u001b[0m \u001b[1m0s\u001b[0m 14ms/step - accuracy: 0.5012 - loss: 0.7592\n",
            "Epoch 7/100\n",
            "\u001b[1m4/4\u001b[0m \u001b[32m━━━━━━━━━━━━━━━━━━━━\u001b[0m\u001b[37m\u001b[0m \u001b[1m0s\u001b[0m 13ms/step - accuracy: 0.4470 - loss: 0.7851\n",
            "Epoch 8/100\n",
            "\u001b[1m4/4\u001b[0m \u001b[32m━━━━━━━━━━━━━━━━━━━━\u001b[0m\u001b[37m\u001b[0m \u001b[1m0s\u001b[0m 17ms/step - accuracy: 0.4981 - loss: 0.7391 \n",
            "Epoch 9/100\n",
            "\u001b[1m4/4\u001b[0m \u001b[32m━━━━━━━━━━━━━━━━━━━━\u001b[0m\u001b[37m\u001b[0m \u001b[1m0s\u001b[0m 19ms/step - accuracy: 0.4960 - loss: 0.7418\n",
            "Epoch 10/100\n",
            "\u001b[1m4/4\u001b[0m \u001b[32m━━━━━━━━━━━━━━━━━━━━\u001b[0m\u001b[37m\u001b[0m \u001b[1m0s\u001b[0m 15ms/step - accuracy: 0.5189 - loss: 0.7165\n",
            "Epoch 11/100\n",
            "\u001b[1m4/4\u001b[0m \u001b[32m━━━━━━━━━━━━━━━━━━━━\u001b[0m\u001b[37m\u001b[0m \u001b[1m0s\u001b[0m 18ms/step - accuracy: 0.4793 - loss: 0.7362\n",
            "Epoch 12/100\n",
            "\u001b[1m4/4\u001b[0m \u001b[32m━━━━━━━━━━━━━━━━━━━━\u001b[0m\u001b[37m\u001b[0m \u001b[1m0s\u001b[0m 16ms/step - accuracy: 0.5116 - loss: 0.7197\n",
            "Epoch 13/100\n",
            "\u001b[1m4/4\u001b[0m \u001b[32m━━━━━━━━━━━━━━━━━━━━\u001b[0m\u001b[37m\u001b[0m \u001b[1m0s\u001b[0m 15ms/step - accuracy: 0.4991 - loss: 0.7186\n",
            "Epoch 14/100\n",
            "\u001b[1m4/4\u001b[0m \u001b[32m━━━━━━━━━━━━━━━━━━━━\u001b[0m\u001b[37m\u001b[0m \u001b[1m0s\u001b[0m 16ms/step - accuracy: 0.5116 - loss: 0.7143\n",
            "Epoch 15/100\n",
            "\u001b[1m4/4\u001b[0m \u001b[32m━━━━━━━━━━━━━━━━━━━━\u001b[0m\u001b[37m\u001b[0m \u001b[1m0s\u001b[0m 13ms/step - accuracy: 0.4887 - loss: 0.7220\n",
            "Epoch 16/100\n",
            "\u001b[1m4/4\u001b[0m \u001b[32m━━━━━━━━━━━━━━━━━━━━\u001b[0m\u001b[37m\u001b[0m \u001b[1m0s\u001b[0m 10ms/step - accuracy: 0.4970 - loss: 0.7154\n",
            "Epoch 17/100\n",
            "\u001b[1m4/4\u001b[0m \u001b[32m━━━━━━━━━━━━━━━━━━━━\u001b[0m\u001b[37m\u001b[0m \u001b[1m0s\u001b[0m 10ms/step - accuracy: 0.4990 - loss: 0.7106\n",
            "Epoch 18/100\n",
            "\u001b[1m4/4\u001b[0m \u001b[32m━━━━━━━━━━━━━━━━━━━━\u001b[0m\u001b[37m\u001b[0m \u001b[1m0s\u001b[0m 10ms/step - accuracy: 0.4854 - loss: 0.7122\n",
            "Epoch 19/100\n",
            "\u001b[1m4/4\u001b[0m \u001b[32m━━━━━━━━━━━━━━━━━━━━\u001b[0m\u001b[37m\u001b[0m \u001b[1m0s\u001b[0m 10ms/step - accuracy: 0.5189 - loss: 0.7039\n",
            "Epoch 20/100\n",
            "\u001b[1m4/4\u001b[0m \u001b[32m━━━━━━━━━━━━━━━━━━━━\u001b[0m\u001b[37m\u001b[0m \u001b[1m0s\u001b[0m 16ms/step - accuracy: 0.5231 - loss: 0.7047\n",
            "Epoch 21/100\n",
            "\u001b[1m4/4\u001b[0m \u001b[32m━━━━━━━━━━━━━━━━━━━━\u001b[0m\u001b[37m\u001b[0m \u001b[1m0s\u001b[0m 10ms/step - accuracy: 0.4969 - loss: 0.7090\n",
            "Epoch 22/100\n",
            "\u001b[1m4/4\u001b[0m \u001b[32m━━━━━━━━━━━━━━━━━━━━\u001b[0m\u001b[37m\u001b[0m \u001b[1m0s\u001b[0m 11ms/step - accuracy: 0.4948 - loss: 0.7085\n",
            "Epoch 23/100\n",
            "\u001b[1m4/4\u001b[0m \u001b[32m━━━━━━━━━━━━━━━━━━━━\u001b[0m\u001b[37m\u001b[0m \u001b[1m0s\u001b[0m 11ms/step - accuracy: 0.5146 - loss: 0.7055\n",
            "Epoch 24/100\n",
            "\u001b[1m4/4\u001b[0m \u001b[32m━━━━━━━━━━━━━━━━━━━━\u001b[0m\u001b[37m\u001b[0m \u001b[1m0s\u001b[0m 11ms/step - accuracy: 0.4832 - loss: 0.7070\n",
            "Epoch 25/100\n",
            "\u001b[1m4/4\u001b[0m \u001b[32m━━━━━━━━━━━━━━━━━━━━\u001b[0m\u001b[37m\u001b[0m \u001b[1m0s\u001b[0m 10ms/step - accuracy: 0.5030 - loss: 0.7006\n",
            "Epoch 26/100\n",
            "\u001b[1m4/4\u001b[0m \u001b[32m━━━━━━━━━━━━━━━━━━━━\u001b[0m\u001b[37m\u001b[0m \u001b[1m0s\u001b[0m 10ms/step - accuracy: 0.5349 - loss: 0.7031\n",
            "Epoch 27/100\n",
            "\u001b[1m4/4\u001b[0m \u001b[32m━━━━━━━━━━━━━━━━━━━━\u001b[0m\u001b[37m\u001b[0m \u001b[1m0s\u001b[0m 10ms/step - accuracy: 0.5035 - loss: 0.7104\n",
            "Epoch 28/100\n",
            "\u001b[1m4/4\u001b[0m \u001b[32m━━━━━━━━━━━━━━━━━━━━\u001b[0m\u001b[37m\u001b[0m \u001b[1m0s\u001b[0m 12ms/step - accuracy: 0.5038 - loss: 0.6987\n",
            "Epoch 29/100\n",
            "\u001b[1m4/4\u001b[0m \u001b[32m━━━━━━━━━━━━━━━━━━━━\u001b[0m\u001b[37m\u001b[0m \u001b[1m0s\u001b[0m 12ms/step - accuracy: 0.4913 - loss: 0.6984\n",
            "Epoch 30/100\n",
            "\u001b[1m4/4\u001b[0m \u001b[32m━━━━━━━━━━━━━━━━━━━━\u001b[0m\u001b[37m\u001b[0m \u001b[1m0s\u001b[0m 11ms/step - accuracy: 0.4852 - loss: 0.7010\n",
            "Epoch 31/100\n",
            "\u001b[1m4/4\u001b[0m \u001b[32m━━━━━━━━━━━━━━━━━━━━\u001b[0m\u001b[37m\u001b[0m \u001b[1m0s\u001b[0m 11ms/step - accuracy: 0.5207 - loss: 0.6951\n",
            "Epoch 32/100\n",
            "\u001b[1m4/4\u001b[0m \u001b[32m━━━━━━━━━━━━━━━━━━━━\u001b[0m\u001b[37m\u001b[0m \u001b[1m0s\u001b[0m 11ms/step - accuracy: 0.5639 - loss: 0.6927\n",
            "Epoch 33/100\n",
            "\u001b[1m4/4\u001b[0m \u001b[32m━━━━━━━━━━━━━━━━━━━━\u001b[0m\u001b[37m\u001b[0m \u001b[1m0s\u001b[0m 11ms/step - accuracy: 0.5098 - loss: 0.6963\n",
            "Epoch 34/100\n",
            "\u001b[1m4/4\u001b[0m \u001b[32m━━━━━━━━━━━━━━━━━━━━\u001b[0m\u001b[37m\u001b[0m \u001b[1m0s\u001b[0m 10ms/step - accuracy: 0.5474 - loss: 0.6901\n",
            "Epoch 35/100\n",
            "\u001b[1m4/4\u001b[0m \u001b[32m━━━━━━━━━━━━━━━━━━━━\u001b[0m\u001b[37m\u001b[0m \u001b[1m0s\u001b[0m 10ms/step - accuracy: 0.5464 - loss: 0.6924\n",
            "Epoch 36/100\n",
            "\u001b[1m4/4\u001b[0m \u001b[32m━━━━━━━━━━━━━━━━━━━━\u001b[0m\u001b[37m\u001b[0m \u001b[1m0s\u001b[0m 16ms/step - accuracy: 0.5269 - loss: 0.6921\n",
            "Epoch 37/100\n",
            "\u001b[1m4/4\u001b[0m \u001b[32m━━━━━━━━━━━━━━━━━━━━\u001b[0m\u001b[37m\u001b[0m \u001b[1m0s\u001b[0m 10ms/step - accuracy: 0.5267 - loss: 0.6927\n",
            "Epoch 38/100\n",
            "\u001b[1m4/4\u001b[0m \u001b[32m━━━━━━━━━━━━━━━━━━━━\u001b[0m\u001b[37m\u001b[0m \u001b[1m0s\u001b[0m 10ms/step - accuracy: 0.4741 - loss: 0.6946\n",
            "Epoch 39/100\n",
            "\u001b[1m4/4\u001b[0m \u001b[32m━━━━━━━━━━━━━━━━━━━━\u001b[0m\u001b[37m\u001b[0m \u001b[1m0s\u001b[0m 11ms/step - accuracy: 0.4653 - loss: 0.6932\n",
            "Epoch 40/100\n",
            "\u001b[1m4/4\u001b[0m \u001b[32m━━━━━━━━━━━━━━━━━━━━\u001b[0m\u001b[37m\u001b[0m \u001b[1m0s\u001b[0m 11ms/step - accuracy: 0.4425 - loss: 0.6950\n",
            "Epoch 41/100\n",
            "\u001b[1m4/4\u001b[0m \u001b[32m━━━━━━━━━━━━━━━━━━━━\u001b[0m\u001b[37m\u001b[0m \u001b[1m0s\u001b[0m 12ms/step - accuracy: 0.4427 - loss: 0.6931\n",
            "Epoch 42/100\n",
            "\u001b[1m4/4\u001b[0m \u001b[32m━━━━━━━━━━━━━━━━━━━━\u001b[0m\u001b[37m\u001b[0m \u001b[1m0s\u001b[0m 10ms/step - accuracy: 0.4540 - loss: 0.6908\n",
            "Epoch 43/100\n",
            "\u001b[1m4/4\u001b[0m \u001b[32m━━━━━━━━━━━━━━━━━━━━\u001b[0m\u001b[37m\u001b[0m \u001b[1m0s\u001b[0m 11ms/step - accuracy: 0.4571 - loss: 0.6894\n",
            "Epoch 44/100\n",
            "\u001b[1m4/4\u001b[0m \u001b[32m━━━━━━━━━━━━━━━━━━━━\u001b[0m\u001b[37m\u001b[0m \u001b[1m0s\u001b[0m 10ms/step - accuracy: 0.4257 - loss: 0.6971 \n",
            "Epoch 45/100\n",
            "\u001b[1m4/4\u001b[0m \u001b[32m━━━━━━━━━━━━━━━━━━━━\u001b[0m\u001b[37m\u001b[0m \u001b[1m0s\u001b[0m 12ms/step - accuracy: 0.4715 - loss: 0.6889 \n",
            "Epoch 46/100\n",
            "\u001b[1m4/4\u001b[0m \u001b[32m━━━━━━━━━━━━━━━━━━━━\u001b[0m\u001b[37m\u001b[0m \u001b[1m0s\u001b[0m 11ms/step - accuracy: 0.4361 - loss: 0.6944\n",
            "Epoch 47/100\n",
            "\u001b[1m4/4\u001b[0m \u001b[32m━━━━━━━━━━━━━━━━━━━━\u001b[0m\u001b[37m\u001b[0m \u001b[1m0s\u001b[0m 11ms/step - accuracy: 0.4486 - loss: 0.6904\n",
            "Epoch 48/100\n",
            "\u001b[1m4/4\u001b[0m \u001b[32m━━━━━━━━━━━━━━━━━━━━\u001b[0m\u001b[37m\u001b[0m \u001b[1m0s\u001b[0m 11ms/step - accuracy: 0.4724 - loss: 0.6905\n",
            "Epoch 49/100\n",
            "\u001b[1m4/4\u001b[0m \u001b[32m━━━━━━━━━━━━━━━━━━━━\u001b[0m\u001b[37m\u001b[0m \u001b[1m0s\u001b[0m 13ms/step - accuracy: 0.4413 - loss: 0.6945 \n",
            "Epoch 50/100\n",
            "\u001b[1m4/4\u001b[0m \u001b[32m━━━━━━━━━━━━━━━━━━━━\u001b[0m\u001b[37m\u001b[0m \u001b[1m0s\u001b[0m 10ms/step - accuracy: 0.4633 - loss: 0.6895\n",
            "Epoch 51/100\n",
            "\u001b[1m4/4\u001b[0m \u001b[32m━━━━━━━━━━━━━━━━━━━━\u001b[0m\u001b[37m\u001b[0m \u001b[1m0s\u001b[0m 11ms/step - accuracy: 0.5090 - loss: 0.6876\n",
            "Epoch 52/100\n",
            "\u001b[1m4/4\u001b[0m \u001b[32m━━━━━━━━━━━━━━━━━━━━\u001b[0m\u001b[37m\u001b[0m \u001b[1m0s\u001b[0m 11ms/step - accuracy: 0.4746 - loss: 0.6884\n",
            "Epoch 53/100\n",
            "\u001b[1m4/4\u001b[0m \u001b[32m━━━━━━━━━━━━━━━━━━━━\u001b[0m\u001b[37m\u001b[0m \u001b[1m0s\u001b[0m 11ms/step - accuracy: 0.4682 - loss: 0.6914 \n",
            "Epoch 54/100\n",
            "\u001b[1m4/4\u001b[0m \u001b[32m━━━━━━━━━━━━━━━━━━━━\u001b[0m\u001b[37m\u001b[0m \u001b[1m0s\u001b[0m 11ms/step - accuracy: 0.4660 - loss: 0.6901\n",
            "Epoch 55/100\n",
            "\u001b[1m4/4\u001b[0m \u001b[32m━━━━━━━━━━━━━━━━━━━━\u001b[0m\u001b[37m\u001b[0m \u001b[1m0s\u001b[0m 10ms/step - accuracy: 0.4557 - loss: 0.6905\n",
            "Epoch 56/100\n",
            "\u001b[1m4/4\u001b[0m \u001b[32m━━━━━━━━━━━━━━━━━━━━\u001b[0m\u001b[37m\u001b[0m \u001b[1m0s\u001b[0m 11ms/step - accuracy: 0.4309 - loss: 0.6918\n",
            "Epoch 57/100\n",
            "\u001b[1m4/4\u001b[0m \u001b[32m━━━━━━━━━━━━━━━━━━━━\u001b[0m\u001b[37m\u001b[0m \u001b[1m0s\u001b[0m 10ms/step - accuracy: 0.4527 - loss: 0.6888 \n",
            "Epoch 58/100\n",
            "\u001b[1m4/4\u001b[0m \u001b[32m━━━━━━━━━━━━━━━━━━━━\u001b[0m\u001b[37m\u001b[0m \u001b[1m0s\u001b[0m 10ms/step - accuracy: 0.5059 - loss: 0.6872\n",
            "Epoch 59/100\n",
            "\u001b[1m4/4\u001b[0m \u001b[32m━━━━━━━━━━━━━━━━━━━━\u001b[0m\u001b[37m\u001b[0m \u001b[1m0s\u001b[0m 11ms/step - accuracy: 0.4548 - loss: 0.6907\n",
            "Epoch 60/100\n",
            "\u001b[1m4/4\u001b[0m \u001b[32m━━━━━━━━━━━━━━━━━━━━\u001b[0m\u001b[37m\u001b[0m \u001b[1m0s\u001b[0m 10ms/step - accuracy: 0.4830 - loss: 0.6866\n",
            "Epoch 61/100\n",
            "\u001b[1m4/4\u001b[0m \u001b[32m━━━━━━━━━━━━━━━━━━━━\u001b[0m\u001b[37m\u001b[0m \u001b[1m0s\u001b[0m 16ms/step - accuracy: 0.4487 - loss: 0.6889\n",
            "Epoch 62/100\n",
            "\u001b[1m4/4\u001b[0m \u001b[32m━━━━━━━━━━━━━━━━━━━━\u001b[0m\u001b[37m\u001b[0m \u001b[1m0s\u001b[0m 10ms/step - accuracy: 0.4673 - loss: 0.6890\n",
            "Epoch 63/100\n",
            "\u001b[1m4/4\u001b[0m \u001b[32m━━━━━━━━━━━━━━━━━━━━\u001b[0m\u001b[37m\u001b[0m \u001b[1m0s\u001b[0m 10ms/step - accuracy: 0.4788 - loss: 0.6873\n",
            "Epoch 64/100\n",
            "\u001b[1m4/4\u001b[0m \u001b[32m━━━━━━━━━━━━━━━━━━━━\u001b[0m\u001b[37m\u001b[0m \u001b[1m0s\u001b[0m 11ms/step - accuracy: 0.4877 - loss: 0.6897\n",
            "Epoch 65/100\n",
            "\u001b[1m4/4\u001b[0m \u001b[32m━━━━━━━━━━━━━━━━━━━━\u001b[0m\u001b[37m\u001b[0m \u001b[1m0s\u001b[0m 11ms/step - accuracy: 0.4856 - loss: 0.6903\n",
            "Epoch 66/100\n",
            "\u001b[1m4/4\u001b[0m \u001b[32m━━━━━━━━━━━━━━━━━━━━\u001b[0m\u001b[37m\u001b[0m \u001b[1m0s\u001b[0m 10ms/step - accuracy: 0.5212 - loss: 0.6917\n",
            "Epoch 67/100\n",
            "\u001b[1m4/4\u001b[0m \u001b[32m━━━━━━━━━━━━━━━━━━━━\u001b[0m\u001b[37m\u001b[0m \u001b[1m0s\u001b[0m 10ms/step - accuracy: 0.5410 - loss: 0.6906\n",
            "Epoch 68/100\n",
            "\u001b[1m4/4\u001b[0m \u001b[32m━━━━━━━━━━━━━━━━━━━━\u001b[0m\u001b[37m\u001b[0m \u001b[1m0s\u001b[0m 10ms/step - accuracy: 0.5226 - loss: 0.6889\n",
            "Epoch 69/100\n",
            "\u001b[1m4/4\u001b[0m \u001b[32m━━━━━━━━━━━━━━━━━━━━\u001b[0m\u001b[37m\u001b[0m \u001b[1m0s\u001b[0m 10ms/step - accuracy: 0.5287 - loss: 0.6870\n",
            "Epoch 70/100\n",
            "\u001b[1m4/4\u001b[0m \u001b[32m━━━━━━━━━━━━━━━━━━━━\u001b[0m\u001b[37m\u001b[0m \u001b[1m0s\u001b[0m 10ms/step - accuracy: 0.5443 - loss: 0.6873\n",
            "Epoch 71/100\n",
            "\u001b[1m4/4\u001b[0m \u001b[32m━━━━━━━━━━━━━━━━━━━━\u001b[0m\u001b[37m\u001b[0m \u001b[1m0s\u001b[0m 10ms/step - accuracy: 0.5111 - loss: 0.6908\n",
            "Epoch 72/100\n",
            "\u001b[1m4/4\u001b[0m \u001b[32m━━━━━━━━━━━━━━━━━━━━\u001b[0m\u001b[37m\u001b[0m \u001b[1m0s\u001b[0m 11ms/step - accuracy: 0.5403 - loss: 0.6823\n",
            "Epoch 73/100\n",
            "\u001b[1m4/4\u001b[0m \u001b[32m━━━━━━━━━━━━━━━━━━━━\u001b[0m\u001b[37m\u001b[0m \u001b[1m0s\u001b[0m 10ms/step - accuracy: 0.5123 - loss: 0.6869\n",
            "Epoch 74/100\n",
            "\u001b[1m4/4\u001b[0m \u001b[32m━━━━━━━━━━━━━━━━━━━━\u001b[0m\u001b[37m\u001b[0m \u001b[1m0s\u001b[0m 11ms/step - accuracy: 0.5082 - loss: 0.6854\n",
            "Epoch 75/100\n",
            "\u001b[1m4/4\u001b[0m \u001b[32m━━━━━━━━━━━━━━━━━━━━\u001b[0m\u001b[37m\u001b[0m \u001b[1m0s\u001b[0m 10ms/step - accuracy: 0.5309 - loss: 0.6890\n",
            "Epoch 76/100\n",
            "\u001b[1m4/4\u001b[0m \u001b[32m━━━━━━━━━━━━━━━━━━━━\u001b[0m\u001b[37m\u001b[0m \u001b[1m0s\u001b[0m 10ms/step - accuracy: 0.5351 - loss: 0.6838\n",
            "Epoch 77/100\n",
            "\u001b[1m4/4\u001b[0m \u001b[32m━━━━━━━━━━━━━━━━━━━━\u001b[0m\u001b[37m\u001b[0m \u001b[1m0s\u001b[0m 13ms/step - accuracy: 0.5163 - loss: 0.6883\n",
            "Epoch 78/100\n",
            "\u001b[1m4/4\u001b[0m \u001b[32m━━━━━━━━━━━━━━━━━━━━\u001b[0m\u001b[37m\u001b[0m \u001b[1m0s\u001b[0m 11ms/step - accuracy: 0.5236 - loss: 0.6849\n",
            "Epoch 79/100\n",
            "\u001b[1m4/4\u001b[0m \u001b[32m━━━━━━━━━━━━━━━━━━━━\u001b[0m\u001b[37m\u001b[0m \u001b[1m0s\u001b[0m 10ms/step - accuracy: 0.5080 - loss: 0.6847\n",
            "Epoch 80/100\n",
            "\u001b[1m4/4\u001b[0m \u001b[32m━━━━━━━━━━━━━━━━━━━━\u001b[0m\u001b[37m\u001b[0m \u001b[1m0s\u001b[0m 10ms/step - accuracy: 0.5122 - loss: 0.6887\n",
            "Epoch 81/100\n",
            "\u001b[1m4/4\u001b[0m \u001b[32m━━━━━━━━━━━━━━━━━━━━\u001b[0m\u001b[37m\u001b[0m \u001b[1m0s\u001b[0m 10ms/step - accuracy: 0.5070 - loss: 0.6886\n",
            "Epoch 82/100\n",
            "\u001b[1m4/4\u001b[0m \u001b[32m━━━━━━━━━━━━━━━━━━━━\u001b[0m\u001b[37m\u001b[0m \u001b[1m0s\u001b[0m 10ms/step - accuracy: 0.5215 - loss: 0.6866\n",
            "Epoch 83/100\n",
            "\u001b[1m4/4\u001b[0m \u001b[32m━━━━━━━━━━━━━━━━━━━━\u001b[0m\u001b[37m\u001b[0m \u001b[1m0s\u001b[0m 10ms/step - accuracy: 0.5090 - loss: 0.6851\n",
            "Epoch 84/100\n",
            "\u001b[1m4/4\u001b[0m \u001b[32m━━━━━━━━━━━━━━━━━━━━\u001b[0m\u001b[37m\u001b[0m \u001b[1m0s\u001b[0m 10ms/step - accuracy: 0.5090 - loss: 0.6870\n",
            "Epoch 85/100\n",
            "\u001b[1m4/4\u001b[0m \u001b[32m━━━━━━━━━━━━━━━━━━━━\u001b[0m\u001b[37m\u001b[0m \u001b[1m0s\u001b[0m 11ms/step - accuracy: 0.4997 - loss: 0.6890\n",
            "Epoch 86/100\n",
            "\u001b[1m4/4\u001b[0m \u001b[32m━━━━━━━━━━━━━━━━━━━━\u001b[0m\u001b[37m\u001b[0m \u001b[1m0s\u001b[0m 11ms/step - accuracy: 0.5235 - loss: 0.6839 \n",
            "Epoch 87/100\n",
            "\u001b[1m4/4\u001b[0m \u001b[32m━━━━━━━━━━━━━━━━━━━━\u001b[0m\u001b[37m\u001b[0m \u001b[1m0s\u001b[0m 10ms/step - accuracy: 0.5328 - loss: 0.6835\n",
            "Epoch 88/100\n",
            "\u001b[1m4/4\u001b[0m \u001b[32m━━━━━━━━━━━━━━━━━━━━\u001b[0m\u001b[37m\u001b[0m \u001b[1m0s\u001b[0m 12ms/step - accuracy: 0.5287 - loss: 0.6842\n",
            "Epoch 89/100\n",
            "\u001b[1m4/4\u001b[0m \u001b[32m━━━━━━━━━━━━━━━━━━━━\u001b[0m\u001b[37m\u001b[0m \u001b[1m0s\u001b[0m 11ms/step - accuracy: 0.5099 - loss: 0.6880 \n",
            "Epoch 90/100\n",
            "\u001b[1m4/4\u001b[0m \u001b[32m━━━━━━━━━━━━━━━━━━━━\u001b[0m\u001b[37m\u001b[0m \u001b[1m0s\u001b[0m 13ms/step - accuracy: 0.5328 - loss: 0.6856\n",
            "Epoch 91/100\n",
            "\u001b[1m4/4\u001b[0m \u001b[32m━━━━━━━━━━━━━━━━━━━━\u001b[0m\u001b[37m\u001b[0m \u001b[1m0s\u001b[0m 10ms/step - accuracy: 0.5203 - loss: 0.6873\n",
            "Epoch 92/100\n",
            "\u001b[1m4/4\u001b[0m \u001b[32m━━━━━━━━━━━━━━━━━━━━\u001b[0m\u001b[37m\u001b[0m \u001b[1m0s\u001b[0m 10ms/step - accuracy: 0.5151 - loss: 0.6894 \n",
            "Epoch 93/100\n",
            "\u001b[1m4/4\u001b[0m \u001b[32m━━━━━━━━━━━━━━━━━━━━\u001b[0m\u001b[37m\u001b[0m \u001b[1m0s\u001b[0m 10ms/step - accuracy: 0.5599 - loss: 0.6821\n",
            "Epoch 94/100\n",
            "\u001b[1m4/4\u001b[0m \u001b[32m━━━━━━━━━━━━━━━━━━━━\u001b[0m\u001b[37m\u001b[0m \u001b[1m0s\u001b[0m 10ms/step - accuracy: 0.5432 - loss: 0.6842\n",
            "Epoch 95/100\n",
            "\u001b[1m4/4\u001b[0m \u001b[32m━━━━━━━━━━━━━━━━━━━━\u001b[0m\u001b[37m\u001b[0m \u001b[1m0s\u001b[0m 11ms/step - accuracy: 0.5193 - loss: 0.6869\n",
            "Epoch 96/100\n",
            "\u001b[1m4/4\u001b[0m \u001b[32m━━━━━━━━━━━━━━━━━━━━\u001b[0m\u001b[37m\u001b[0m \u001b[1m0s\u001b[0m 10ms/step - accuracy: 0.5526 - loss: 0.6808\n",
            "Epoch 97/100\n",
            "\u001b[1m4/4\u001b[0m \u001b[32m━━━━━━━━━━━━━━━━━━━━\u001b[0m\u001b[37m\u001b[0m \u001b[1m0s\u001b[0m 10ms/step - accuracy: 0.5077 - loss: 0.6905\n",
            "Epoch 98/100\n",
            "\u001b[1m4/4\u001b[0m \u001b[32m━━━━━━━━━━━━━━━━━━━━\u001b[0m\u001b[37m\u001b[0m \u001b[1m0s\u001b[0m 10ms/step - accuracy: 0.5660 - loss: 0.6828 \n",
            "Epoch 99/100\n",
            "\u001b[1m4/4\u001b[0m \u001b[32m━━━━━━━━━━━━━━━━━━━━\u001b[0m\u001b[37m\u001b[0m \u001b[1m0s\u001b[0m 11ms/step - accuracy: 0.5266 - loss: 0.6850\n",
            "Epoch 100/100\n",
            "\u001b[1m4/4\u001b[0m \u001b[32m━━━━━━━━━━━━━━━━━━━━\u001b[0m\u001b[37m\u001b[0m \u001b[1m0s\u001b[0m 10ms/step - accuracy: 0.5059 - loss: 0.6879\n"
          ]
        }
      ]
    },
    {
      "cell_type": "markdown",
      "source": [
        "### INFERENCES FROM REAL MODEL"
      ],
      "metadata": {
        "id": "44ai7gxn6mF1"
      }
    },
    {
      "cell_type": "markdown",
      "source": [
        "DEFAULT `batch_size` IS 32, $\\frac{100}{32}$ =3.125 BUT IF 3 BATCHES PER EPOCH ARE USED THEN ALL SAMPLES CAN NOT BE UTILIZED , HENCE KERAS USES `ceil()` FUNCTION ceil(3.125)=4, THE STARTING 3 BATCHES WILL HAVE 32 SAMPLES AND THE LAST (4th) BATCH WILL HAVE REMAINING 4 (=100-32x3) SAMPLES"
      ],
      "metadata": {
        "id": "Nf03Wt_9Tgk4"
      }
    },
    {
      "cell_type": "markdown",
      "source": [
        "Flow of weights and data\n",
        "\n",
        "- All samples in a batch are processed together (matrix form)\n",
        "- 1 forward pass + 1 backward pass + 1 update ,per batch\n",
        "- After all 4 batches → 1 epoch is done"
      ],
      "metadata": {
        "id": "5XzEpsMrxAz7"
      }
    },
    {
      "cell_type": "code",
      "source": [
        "model.get_weights()"
      ],
      "metadata": {
        "id": "1EOJSqBiPzJu",
        "colab": {
          "base_uri": "https://localhost:8080/"
        },
        "outputId": "8a3f82f6-9ce6-471b-96df-c6a10aea7f26"
      },
      "execution_count": null,
      "outputs": [
        {
          "output_type": "execute_result",
          "data": {
            "text/plain": [
              "[array([[ 0.37166503, -0.259302  ,  0.01859404, -0.27479184,  0.10101347,\n",
              "          0.01312081, -0.1971171 , -0.03563022,  0.2967291 ,  0.416691  ],\n",
              "        [ 0.20803118,  0.14380108,  0.46279022, -0.21220766, -0.3563875 ,\n",
              "         -0.47731885,  0.09439462, -0.13761647,  0.08189932,  0.11996358],\n",
              "        [ 0.39326483,  0.57058793,  0.085046  , -0.24617538,  0.18865173,\n",
              "          0.5283729 , -0.13788106, -0.15266985,  0.42922613, -0.05020115],\n",
              "        [ 0.24492434, -0.11156335, -0.28321296,  0.3056712 , -0.26496387,\n",
              "          0.27613223, -0.4867583 , -0.1071515 ,  0.06340839,  0.3512489 ],\n",
              "        [ 0.26870227,  0.31195775, -0.03221391, -0.64698565, -0.44548482,\n",
              "         -0.26626018,  0.51501065, -0.17232987, -0.41348416,  0.37371382],\n",
              "        [-0.14975773,  0.47090894,  0.38631123,  0.37306064,  0.06194755,\n",
              "         -0.432108  , -0.2813465 , -0.21866167,  0.14627202,  0.43830192],\n",
              "        [-0.11245842,  0.50232536, -0.3157947 , -0.16566724,  0.38757464,\n",
              "          0.17056479,  0.21549444, -0.23706087, -0.25537446,  0.19642031],\n",
              "        [ 0.44772822,  0.516103  ,  0.233244  ,  0.17275968, -0.22022033,\n",
              "          0.44673356,  0.04053968, -0.21734332, -0.06700338,  0.25031316],\n",
              "        [ 0.41430575,  0.52833545,  0.31736493,  0.42175093,  0.26350856,\n",
              "         -0.41269302, -0.42533618,  0.4988214 ,  0.07596254,  0.41209382],\n",
              "        [ 0.33025143, -0.12232562,  0.21798436, -0.07067315,  0.4297624 ,\n",
              "         -0.14778842,  0.2224646 , -0.50622135,  0.27502215,  0.07177501]],\n",
              "       dtype=float32),\n",
              " array([-0.05357391,  0.06172198,  0.07020649,  0.06574365,  0.05433249,\n",
              "         0.04400511, -0.00227408, -0.01721766, -0.05054592,  0.04769796],\n",
              "       dtype=float32),\n",
              " array([[-0.38823277,  0.4181283 ,  0.5652097 ,  0.3170365 ,  0.21860056],\n",
              "        [ 0.61768234, -0.25453198, -0.24250562,  0.32263264,  0.00221397],\n",
              "        [ 0.30208457, -0.5445332 ,  0.23330054, -0.64352995, -0.19113299],\n",
              "        [-0.16385159, -0.28521538, -0.12162694,  0.5556037 , -0.3088178 ],\n",
              "        [ 0.01004011, -0.52726066, -0.67545176, -0.7579051 , -0.57050925],\n",
              "        [ 0.5434991 , -0.40204957,  0.26743844, -0.14851384, -0.33152705],\n",
              "        [ 0.5713581 , -0.4691684 , -0.48624364, -0.20303994,  0.55946565],\n",
              "        [ 0.4344172 ,  0.20805676,  0.57120645,  0.16861972, -0.2155344 ],\n",
              "        [-0.20805988, -0.03561718,  0.464563  ,  0.15030795,  0.5370477 ],\n",
              "        [-0.0073528 , -0.08873574, -0.6226529 ,  0.30952644, -0.26035175]],\n",
              "       dtype=float32),\n",
              " array([ 0.0629172 , -0.03951215, -0.05321489, -0.05908905, -0.02693221],\n",
              "       dtype=float32),\n",
              " array([[-0.44965377],\n",
              "        [ 0.93367356],\n",
              "        [ 0.8565059 ],\n",
              "        [ 0.26269212],\n",
              "        [ 0.07183875]], dtype=float32),\n",
              " array([-0.06136915], dtype=float32)]"
            ]
          },
          "metadata": {},
          "execution_count": 125
        }
      ]
    },
    {
      "cell_type": "markdown",
      "source": [
        "- 1st array has 10 rows (`fan_in`) and 5 columns (`fan_out`) that contains weights values of 1st hidden layer\n",
        "- 2nd array has 5 columns that contains values of biases for 5 neurons in the hiddden layer\n",
        "- 3rd array has 5 rows (`fan_in`) and 1 column (`fan_out`) containing values for single output neuron\n",
        "- 4th array contains the bias of the output neuron"
      ],
      "metadata": {
        "id": "IDzu51Ay0FgE"
      }
    },
    {
      "cell_type": "markdown",
      "source": [
        "### COMPARISION BETWEEN THE TWO MODELS"
      ],
      "metadata": {
        "id": "irmSDfMC6q8P"
      }
    },
    {
      "cell_type": "code",
      "source": [
        "sns.lineplot(losses,label='mlp from scratch')\n",
        "sns.lineplot(history.history['loss'],label='mlp from keras')\n",
        "plt.legend()\n",
        "plt.show()"
      ],
      "metadata": {
        "colab": {
          "base_uri": "https://localhost:8080/",
          "height": 430
        },
        "id": "erylVeQl1_si",
        "outputId": "3b3cd349-6443-4afb-d257-d11bae14028b"
      },
      "execution_count": null,
      "outputs": [
        {
          "output_type": "display_data",
          "data": {
            "text/plain": [
              "<Figure size 640x480 with 1 Axes>"
            ],
            "image/png": "[encoded data removed]"
          },
          "metadata": {}
        }
      ]
    },
    {
      "cell_type": "code",
      "source": [
        "sns.lineplot(accuracies,label='mlp from scratch')\n",
        "sns.lineplot(history.history['accuracy'],label='mlp from keras')\n",
        "plt.legend()\n",
        "plt.show()"
      ],
      "metadata": {
        "colab": {
          "base_uri": "https://localhost:8080/",
          "height": 430
        },
        "id": "W5NqDH3R26tu",
        "outputId": "82927799-2866-4b55-e4c6-0716a3edfe88"
      },
      "execution_count": null,
      "outputs": [
        {
          "output_type": "display_data",
          "data": {
            "text/plain": [
              "<Figure size 640x480 with 1 Axes>"
            ],
            "image/png": "[encoded data removed]"
          },
          "metadata": {}
        }
      ]
    }
  ]
}